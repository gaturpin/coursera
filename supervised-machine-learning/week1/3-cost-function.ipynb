{
 "cells": [
  {
   "cell_type": "markdown",
   "id": "cd2b00b2-f645-47bd-9f30-8522326ae2ae",
   "metadata": {},
   "source": [
    "**Cost function**"
   ]
  },
  {
   "cell_type": "markdown",
   "id": "38739864-b1aa-4e7b-90a6-f5639be130cd",
   "metadata": {},
   "source": [
    "Squared error cost function:  $J(w,b) = \\frac{1}{2m}\\sum^m_{i=1} (\\hat{y}^{i} - y^i)^2$  \n",
    "extra division by 2 makes later calculations neater - cont function still works if don't include 2  "
   ]
  },
  {
   "cell_type": "markdown",
   "id": "29dc05c6-39fe-4748-8394-5eec7c78b0b1",
   "metadata": {},
   "source": [
    "<u>model:</u> $f(x) = w*x + b$ \n",
    "<u>parameters:</u> w, b  \n",
    "<u>cost function:</u> $J(w,b) = \\frac{1}{2m}\\sum^m_{i=1} (f_{w,b}(x^{(i)})  - y^{(i)})^2$  \n",
    "<u>goal:</u> minimize $J(w,b)$\n"
   ]
  },
  {
   "cell_type": "markdown",
   "id": "d8587e51-b1e0-4930-8583-d061fac00de2",
   "metadata": {},
   "source": [
    "Simplifly model:  \n",
    "$f_w(x) = wx$  \n",
    "\n",
    "Now:  \n",
    "$J(w) = \\frac{1}{2m}\\sum^m_{i=1} (wx^{(i)}  - y^{(i)})^2$  \n",
    "\n",
    "Minimize $J_w$"
   ]
  },
  {
   "cell_type": "markdown",
   "id": "ceabd3a1-83f3-44ce-a64f-a1598ac16014",
   "metadata": {},
   "source": [
    "<u>Cost:</u> a measure of how well a model is predicting the target"
   ]
  },
  {
   "cell_type": "code",
   "execution_count": null,
   "id": "afc4c3a4-5a75-45e6-92a2-c8282fa65d6e",
   "metadata": {},
   "outputs": [],
   "source": []
  }
 ],
 "metadata": {
  "kernelspec": {
   "display_name": "Python 3 (ipykernel)",
   "language": "python",
   "name": "python3"
  },
  "language_info": {
   "codemirror_mode": {
    "name": "ipython",
    "version": 3
   },
   "file_extension": ".py",
   "mimetype": "text/x-python",
   "name": "python",
   "nbconvert_exporter": "python",
   "pygments_lexer": "ipython3",
   "version": "3.12.3"
  }
 },
 "nbformat": 4,
 "nbformat_minor": 5
}
