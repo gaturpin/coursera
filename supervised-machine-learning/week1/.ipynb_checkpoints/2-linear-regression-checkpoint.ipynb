{
 "cells": [
  {
   "cell_type": "markdown",
   "id": "5463b633-6b9e-4f9d-a1e2-8053bad624f9",
   "metadata": {},
   "source": [
    "**Terminology**  \n",
    "Training set - Data set used to train the model  \n",
    "$x$ = input variable features  \n",
    "$y$ = 'output' variable/'target' variable  \n",
    "$m$ = number of training examples  \n",
    "$(x,y)$ - single training example - one data point  \n",
    "$(x^{(i)}, y^{(i)})$ - $i^{\\rm{th}}$ training example  \n",
    "Univariate linear regression - one variable, x"
   ]
  },
  {
   "cell_type": "markdown",
   "id": "ca4f8648-c01f-4d12-a1f9-80e37210b2b2",
   "metadata": {},
   "source": [
    "**Work flow**  \n",
    " - Feed training set to model - input features, output targets  \n",
    " - Learning algorithm will produce some function/hypothesis  \n",
    " - Function f is the model and is used to predict y-hat\n",
    "\n",
    "**How to represent f?**  \n",
    "For now consider striaght line:  \n",
    "$f(x) = wx + b$"
   ]
  },
  {
   "cell_type": "code",
   "execution_count": null,
   "id": "704260cf-f8b3-4470-8c05-9c997a8e27f5",
   "metadata": {},
   "outputs": [],
   "source": []
  }
 ],
 "metadata": {
  "kernelspec": {
   "display_name": "Python 3 (ipykernel)",
   "language": "python",
   "name": "python3"
  },
  "language_info": {
   "codemirror_mode": {
    "name": "ipython",
    "version": 3
   },
   "file_extension": ".py",
   "mimetype": "text/x-python",
   "name": "python",
   "nbconvert_exporter": "python",
   "pygments_lexer": "ipython3",
   "version": "3.12.3"
  }
 },
 "nbformat": 4,
 "nbformat_minor": 5
}
