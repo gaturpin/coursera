{
 "cells": [
  {
   "cell_type": "markdown",
   "id": "048dfa2b-3b55-42e4-8bf5-e5280bea619b",
   "metadata": {},
   "source": [
    "**Feature Engineering**  \n",
    "\n",
    " - take house as example\n",
    " - area of land will be depth $\\times$ frontages\n",
    " - can create new feature area; $x_3 = x_1 x_2$\n",
    " - model $f_{\\vec{w},b}(\\vec{x}) = w_1 x_1 + w_2 x_2 + w_3 x_3 + b$"
   ]
  },
  {
   "cell_type": "markdown",
   "id": "d5b06f59-02b2-4323-97f6-acfd2bbf1645",
   "metadata": {},
   "source": [
    "**Polynomial Regression**  \n",
    "\n",
    "Takes multiple feature linear regression + feature engineering  \n",
    "\n",
    "e.g price vs size (x) might be cubic:\n",
    " - $f(x) = w_1 x + w_2 x^2 + w_3 x^3 + b$\n",
    "or sqrt:\n",
    " - $f(x) = w_1 x + w_2 \\sqrt{x} + b$"
   ]
  },
  {
   "cell_type": "code",
   "execution_count": null,
   "id": "1bc20766-fd02-48ca-81e3-4c556f493dc8",
   "metadata": {},
   "outputs": [],
   "source": []
  }
 ],
 "metadata": {
  "kernelspec": {
   "display_name": "Python 3 (ipykernel)",
   "language": "python",
   "name": "python3"
  },
  "language_info": {
   "codemirror_mode": {
    "name": "ipython",
    "version": 3
   },
   "file_extension": ".py",
   "mimetype": "text/x-python",
   "name": "python",
   "nbconvert_exporter": "python",
   "pygments_lexer": "ipython3",
   "version": "3.12.3"
  }
 },
 "nbformat": 4,
 "nbformat_minor": 5
}
