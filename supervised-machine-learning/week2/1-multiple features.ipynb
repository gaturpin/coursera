{
 "cells": [
  {
   "cell_type": "markdown",
   "id": "ebbfc682-7bf4-4bf6-ba2a-18c631587aee",
   "metadata": {},
   "source": [
    "$x_j = j^{th}$ feature  \n",
    "$n$ = number of features  \n",
    "$\\vec{x}^{(i)}$ = features of $i^{th}$ training example - now a vector  \n",
    "$x_j^{(i)}$ = value of feature $j$ in $i^{th}$ training example"
   ]
  },
  {
   "cell_type": "markdown",
   "id": "d142ec5b-c7db-4ebf-abc7-c07289bd52fe",
   "metadata": {},
   "source": [
    "**Model - Multiple linear regression**   \n",
    "Previously: $f_{w,b}(x) = wx + b$  \n",
    "Now: $f_{w,b}(x) = w_1 x_1 + w_2 x_2 + ... w_n x_n + b$  \n",
    "\n",
    "$\\vec{w} = [w_1, w_2, ..., w_n]$\n",
    "b is a number  \n",
    "$\\vec{x} = [x_1, x_2, ..., x_n]$  \n",
    "\n",
    "so: $f_{w,b}(\\vec{x}) = \\vec{w} \\cdot \\vec{x} + b$"
   ]
  },
  {
   "cell_type": "code",
   "execution_count": null,
   "id": "3b5b93a2-7239-4964-8565-3c67cb320c80",
   "metadata": {
    "editable": true,
    "slideshow": {
     "slide_type": ""
    },
    "tags": []
   },
   "outputs": [],
   "source": []
  }
 ],
 "metadata": {
  "kernelspec": {
   "display_name": "Python 3 (ipykernel)",
   "language": "python",
   "name": "python3"
  },
  "language_info": {
   "codemirror_mode": {
    "name": "ipython",
    "version": 3
   },
   "file_extension": ".py",
   "mimetype": "text/x-python",
   "name": "python",
   "nbconvert_exporter": "python",
   "pygments_lexer": "ipython3",
   "version": "3.12.3"
  }
 },
 "nbformat": 4,
 "nbformat_minor": 5
}
