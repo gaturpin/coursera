{
 "cells": [
  {
   "cell_type": "code",
   "execution_count": null,
   "id": "f79dd279-ca36-4225-bf53-a146ddff702f",
   "metadata": {},
   "outputs": [],
   "source": [
    "import numpy as np\n",
    "w = np.array([1.0, 2.5, -3.3])\n",
    "b = 4\n",
    "x = np.array([10,20,30])\n",
    "\n",
    "f = np.dot(w,x) + b #vectorisation - no for loop"
   ]
  },
  {
   "cell_type": "markdown",
   "id": "4f11314c-86f1-4a8b-9690-e30719047a53",
   "metadata": {},
   "source": [
    "**Behind the scenes**  \n",
    "\n",
    "for loop: calculates one step at a time\n",
    "\n",
    "vectorised np.dot: multiplies all values in parallel + adds them together efficiently"
   ]
  },
  {
   "cell_type": "markdown",
   "id": "7a71ef04-75bd-499f-9cb4-a95932c6eb6f",
   "metadata": {
    "editable": true,
    "slideshow": {
     "slide_type": ""
    },
    "tags": []
   },
   "source": []
  }
 ],
 "metadata": {
  "kernelspec": {
   "display_name": "Python 3 (ipykernel)",
   "language": "python",
   "name": "python3"
  },
  "language_info": {
   "codemirror_mode": {
    "name": "ipython",
    "version": 3
   },
   "file_extension": ".py",
   "mimetype": "text/x-python",
   "name": "python",
   "nbconvert_exporter": "python",
   "pygments_lexer": "ipython3",
   "version": "3.12.3"
  }
 },
 "nbformat": 4,
 "nbformat_minor": 5
}
