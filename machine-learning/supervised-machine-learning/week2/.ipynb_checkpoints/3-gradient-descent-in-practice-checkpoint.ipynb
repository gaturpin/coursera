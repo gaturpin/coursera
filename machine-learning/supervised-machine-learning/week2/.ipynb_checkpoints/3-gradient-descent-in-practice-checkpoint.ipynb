{
 "cells": [
  {
   "cell_type": "markdown",
   "id": "aeea236b-09b3-428f-951e-b6ae48101d29",
   "metadata": {},
   "source": [
    "**Gradient Descent in Practice**"
   ]
  },
  {
   "cell_type": "markdown",
   "id": "7ea24cd8-9bc9-49f5-8439-a6ea447582a4",
   "metadata": {},
   "source": [
    "Can rescale features to comparable values to speed up gradient decent"
   ]
  },
  {
   "cell_type": "markdown",
   "id": "d8832376-1c7b-4c68-a58b-6967d12e5581",
   "metadata": {},
   "source": [
    "**Feature scaling**  \n",
    "\n",
    "300 $\\leq$ x1 $\\leq$ 2000  \n",
    "0 $\\leq$ x2 $\\leq$ 5  \n",
    "\n",
    "$x_1 = x_1/x_{1,max}$\n",
    "\n",
    "<u>Mean normalization</u>  \n",
    "\n",
    "$x_1 = \\frac{x_1 - \\mu_1}{x_{1, max} - x_{1, min}}$"
   ]
  },
  {
   "cell_type": "markdown",
   "id": "f7a7c658-6f42-4b72-b4ea-e3ce6f48fb6b",
   "metadata": {},
   "source": [
    "<u>Z-score normalization</u>  \n",
    "Z score $x_1 = \\frac{x_1 - \\mu_1}{\\sigma_1}$"
   ]
  },
  {
   "cell_type": "markdown",
   "id": "6c3198b7-738d-48a3-bca2-6499ed2b5e1a",
   "metadata": {},
   "source": [
    "Best to aim for about -1 to 1 for each feature or close to this range"
   ]
  },
  {
   "cell_type": "markdown",
   "id": "89ba709e-6edc-40bc-9e6d-afe8a4f5a439",
   "metadata": {},
   "source": [
    "**Make sure gradient decent is working correctly**  \n",
    "Automatic convergence test epsilon  \n",
    "If J(w,b) decreases by less than epsilon then converged\n",
    "\n",
    "Can also check J(w,b) vs iterations and check off graph"
   ]
  },
  {
   "cell_type": "markdown",
   "id": "f72e2b54-fcfc-40c4-876d-887e3177b27a",
   "metadata": {},
   "source": [
    "**Choosing learning rate**  \n",
    "Cost increasing - bug or learning rate too high  \n",
    "If gradient descent isn't working, can reduce alpha to be small.  \n",
    "If it still doesn't decrease then likely a bug.\n",
    "\n",
    "Try $\\alpha = [0.001, 0.01, 0.1, 1.]$"
   ]
  },
  {
   "cell_type": "code",
   "execution_count": null,
   "id": "2ab42152-8d96-4ab5-a39c-906a21767dcd",
   "metadata": {},
   "outputs": [],
   "source": []
  }
 ],
 "metadata": {
  "kernelspec": {
   "display_name": "Python 3 (ipykernel)",
   "language": "python",
   "name": "python3"
  },
  "language_info": {
   "codemirror_mode": {
    "name": "ipython",
    "version": 3
   },
   "file_extension": ".py",
   "mimetype": "text/x-python",
   "name": "python",
   "nbconvert_exporter": "python",
   "pygments_lexer": "ipython3",
   "version": "3.12.3"
  }
 },
 "nbformat": 4,
 "nbformat_minor": 5
}
