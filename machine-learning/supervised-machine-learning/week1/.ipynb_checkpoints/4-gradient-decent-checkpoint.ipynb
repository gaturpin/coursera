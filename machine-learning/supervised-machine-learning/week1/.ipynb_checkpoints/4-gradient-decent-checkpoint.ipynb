{
 "cells": [
  {
   "cell_type": "markdown",
   "id": "a853a45d-8bba-4bbb-8777-7ad902033d32",
   "metadata": {},
   "source": [
    "**Gradient Decent**  \n",
    "An algorithm that provides a systematic way to find the values of w and b"
   ]
  },
  {
   "cell_type": "markdown",
   "id": "3aff9a7f-ace0-47d8-a794-afc505b0ba95",
   "metadata": {},
   "source": [
    "Have some function $J(w,b)$  \n",
    "Want to min  \n",
    "\n",
    "<u>Outline:</u>\n",
    " -  Start with some w,b\n",
    " -  keep changing w,b to reduce cost function\n",
    " -  settle at or near minimum\n",
    " -  Can settle on multiple minima based on initial w,b\n",
    "\n"
   ]
  },
  {
   "cell_type": "markdown",
   "id": "7829b401-da20-434b-a73f-d8cf61cecbd4",
   "metadata": {},
   "source": [
    "**Gradient decent algorithm**  \n",
    "<u>Steps:</u>  \n",
    "$w = w - \\alpha \\frac{\\partial}{\\partial w} J(w,b)$  \n",
    "$b = b - \\alpha \\frac{\\partial}{\\partial b} J(w,b)$  \n",
    "\n",
    "where $\\alpha$ - learning rate, between 0-1. Controls how big of a step you take towards minimum\n",
    "\n",
    "need to update both w,b at the same time"
   ]
  },
  {
   "cell_type": "markdown",
   "id": "393a3cb8-a15a-4a92-9291-6d18d278ac29",
   "metadata": {},
   "source": [
    "If $\\alpha$ is too small, minimise cost too slowly - requires a lot of iterations  \n",
    "If $\\alpha$ is too large, skip past minimum - may get further from minimum / never find it"
   ]
  },
  {
   "cell_type": "markdown",
   "id": "6aeb7214-55cf-4e7b-81e9-e978ff33bdcc",
   "metadata": {},
   "source": [
    "**Deriviatvies**  \n",
    "\n",
    "$J(w,b) = \\frac{1}{2m}\\sum^m_{i=1} (f_{w,b}(x^{(i)}) - y^{(i)})^2$; where $f_{w,b} = wx + b$  \n",
    "\n",
    "$\\frac{\\partial}{\\partial w} J(w,b) = \\frac{1}{2m}\\sum^m_{i=1}(f_{w,b}(x^{(i)}) - y^{(i)})2x^{(i)}$  \n",
    "\n",
    "$\\frac{\\partial}{\\partial b} J(w,b) = \\frac{1}{2m}\\sum^m_{i=1}(f_{w,b}(x^{(i)}) - y^{(i)})2$  "
   ]
  },
  {
   "cell_type": "code",
   "execution_count": null,
   "id": "b5e61ecc-ff68-415e-b77d-a69e50a974a5",
   "metadata": {},
   "outputs": [],
   "source": []
  }
 ],
 "metadata": {
  "kernelspec": {
   "display_name": "Python 3 (ipykernel)",
   "language": "python",
   "name": "python3"
  },
  "language_info": {
   "codemirror_mode": {
    "name": "ipython",
    "version": 3
   },
   "file_extension": ".py",
   "mimetype": "text/x-python",
   "name": "python",
   "nbconvert_exporter": "python",
   "pygments_lexer": "ipython3",
   "version": "3.12.3"
  }
 },
 "nbformat": 4,
 "nbformat_minor": 5
}
