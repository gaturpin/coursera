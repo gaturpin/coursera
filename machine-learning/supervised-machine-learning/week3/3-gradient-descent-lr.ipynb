{
 "cells": [
  {
   "cell_type": "markdown",
   "id": "efe698b6-1f11-4428-9333-73bc67e28bdc",
   "metadata": {},
   "source": [
    "**Gradient descent**  \n",
    "\n",
    "Same as previously with new loss function in cost  \n",
    "derivatives:\n",
    "$$\\begin{align*}\n",
    "\\frac{\\partial J(\\mathbf{w},b)}{\\partial w_j}  &= \\frac{1}{m} \\sum\\limits_{i = 0}^{m-1} (f_{\\mathbf{w},b}(\\mathbf{x}^{(i)}) - y^{(i)})x_{j}^{(i)} \\tag{2} \\\\\n",
    "\\frac{\\partial J(\\mathbf{w},b)}{\\partial b}  &= \\frac{1}{m} \\sum\\limits_{i = 0}^{m-1} (f_{\\mathbf{w},b}(\\mathbf{x}^{(i)}) - y^{(i)}) \\tag{3} \n",
    "\\end{align*}$$\n",
    "\n",
    "looks like linear regression but f(x) is changed - sigmoid vs linear function"
   ]
  },
  {
   "cell_type": "code",
   "execution_count": null,
   "id": "c5738f62-303a-4a5a-8605-03dc60ba7318",
   "metadata": {},
   "outputs": [],
   "source": []
  }
 ],
 "metadata": {
  "kernelspec": {
   "display_name": "Python 3 (ipykernel)",
   "language": "python",
   "name": "python3"
  },
  "language_info": {
   "codemirror_mode": {
    "name": "ipython",
    "version": 3
   },
   "file_extension": ".py",
   "mimetype": "text/x-python",
   "name": "python",
   "nbconvert_exporter": "python",
   "pygments_lexer": "ipython3",
   "version": "3.12.3"
  }
 },
 "nbformat": 4,
 "nbformat_minor": 5
}
