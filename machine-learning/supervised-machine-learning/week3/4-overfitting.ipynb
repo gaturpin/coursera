{
 "cells": [
  {
   "cell_type": "markdown",
   "id": "c6997b4e-1c56-4f6d-8650-331c8c08c86e",
   "metadata": {},
   "source": [
    "**Overfitting**  \n",
    "\n",
    "Underfit - does not fit data well. Fitting linear eq to poly data. High bias.  \n",
    "\n",
    "Overfit - algorithm trying hard to fit every single example. Results in highly variable predictions. High variance. Does not fit new data well.  \n",
    "too reduce overfitting:\n",
    "- use more data to check\n",
    "- select features to include/exclude\n",
    "\n",
    "If you have a lot of features but not enough training data, algo may risk overfitting. So worth excluding some features, only including most relavent features. (feature selection)  \n",
    "Simpler models with less features less prone to overfitting\n"
   ]
  },
  {
   "cell_type": "markdown",
   "id": "f4e1c433-2336-49ac-89ab-41d72b369dc3",
   "metadata": {},
   "source": [
    "**Regularisation**  \n",
    "lets you keep all features, but prevents features have large values.  \n",
    "Reduces values of wieghts, w.  "
   ]
  },
  {
   "cell_type": "markdown",
   "id": "adddcf7e-2a87-4d18-a390-09b6b1e6aa7e",
   "metadata": {},
   "source": [
    "**Cost function with regularisation**  \n",
    "\n",
    "Regularisation term:\n",
    "$$J(\\mathbf{w},b) = \\frac{1}{2m} \\sum\\limits_{i = 0}^{m-1} (f_{\\mathbf{w},b}(\\mathbf{x}^{(i)}) - y^{(i)})^2  + \\frac{\\lambda}{2m}  \\sum_{j=0}^{n-1} w_j^2 \\tag{1}$$ \n",
    "\n",
    "Small lambda - no change in cost funciton - overfits  \n",
    "Large lambda - wieghts reduced to near 0 - underfits"
   ]
  },
  {
   "cell_type": "markdown",
   "id": "3e7654ad-0792-4e56-9a49-6595bfeeae6a",
   "metadata": {},
   "source": [
    "Gradient descent just includes the derivative of the extra term.  \n",
    "obviously only for dJ/dw and we get lambda*w/m  \n",
    "\n",
    "\n",
    "$w_j(1 - \\alpha \\lambda/m) - $ rest of usual update\n",
    "\n",
    "if lambda is small, times w_j by a number close to 1. shrink w_j slightly on each iteration\n"
   ]
  },
  {
   "cell_type": "code",
   "execution_count": null,
   "id": "f79d6331-7d3a-4459-9ad7-12f4696f42bb",
   "metadata": {},
   "outputs": [],
   "source": []
  },
  {
   "cell_type": "code",
   "execution_count": null,
   "id": "ea92452d-4992-4370-87ba-aa260c0bff11",
   "metadata": {},
   "outputs": [],
   "source": []
  }
 ],
 "metadata": {
  "kernelspec": {
   "display_name": "Python 3 (ipykernel)",
   "language": "python",
   "name": "python3"
  },
  "language_info": {
   "codemirror_mode": {
    "name": "ipython",
    "version": 3
   },
   "file_extension": ".py",
   "mimetype": "text/x-python",
   "name": "python",
   "nbconvert_exporter": "python",
   "pygments_lexer": "ipython3",
   "version": "3.12.3"
  }
 },
 "nbformat": 4,
 "nbformat_minor": 5
}
