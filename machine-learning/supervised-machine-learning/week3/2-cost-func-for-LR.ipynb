{
 "cells": [
  {
   "cell_type": "markdown",
   "id": "c1436e75-72b3-4bee-bc24-799219c7f536",
   "metadata": {},
   "source": [
    "**Cost Function for Logistic Regression**  \n",
    "\n",
    "Loss is a measure of the difference of a single example to its target value - ypred - y  \n",
    "Cost is a measure of the losses over the training set\n",
    "\n",
    "linear regression:\n",
    " - $f_{w,b}(x) = w \\cdot x + b$\n",
    " - cost func is convex\n",
    "\n",
    "logistic regression:\n",
    " - $f_{w,b}(x) = \\frac{1}{1+e^{-(w \\cdot x + b)}}$\n",
    " - non-convex\n",
    " - so squared error cost function like in linear regression is not a good choice\n",
    "\n",
    "Let's change cost function a bit:  \n",
    "originally: $J(w,b) = \\frac{1}{m} \\sum^m_{i=1} \\frac{1}{2}(f_{w,b}(x^{(i)}) - y^{(i)})^2$\n",
    "\n",
    "define loss as stuff inside summation:  \n",
    "$L(f_{w,b}(x^{(i)}), y^{(i)})$\n",
    "\n",
    "logistic loss function:\n",
    "$L(f_{w,b}(x^{(i)}), y^{(i)}$\n",
    " - $= -\\rm{log}(f_{w,b}(x^{(i)}))$ if $y^{(i)} = 1$\n",
    " - $= -\\rm{log}(1 - f_{w,b}(x^{(i)}))$ if $y^{(i)} = 0$\n",
    "\n",
    "This results in convex cost function, meaning we can use gradient descent to reach minimum"
   ]
  },
  {
   "cell_type": "markdown",
   "id": "41d6af1c-9b0a-4035-9246-3a0647546ed2",
   "metadata": {},
   "source": [
    "The loss function above can be rewritten to be easier to implement.\n",
    "    $$loss(f_{\\mathbf{w},b}(\\mathbf{x}^{(i)}), y^{(i)}) = (-y^{(i)} \\log\\left(f_{\\mathbf{w},b}\\left( \\mathbf{x}^{(i)} \\right) \\right) - \\left( 1 - y^{(i)}\\right) \\log \\left( 1 - f_{\\mathbf{w},b}\\left( \\mathbf{x}^{(i)} \\right) \\right)$$\n",
    "  \n",
    "This is a rather formidable-looking equation. It is less daunting when you consider $y^{(i)}$ can have only two values, 0 and 1. One can then consider the equation in two pieces:  \n",
    "when $ y^{(i)} = 0$, the left-hand term is eliminated:\n",
    "$$\n",
    "\\begin{align}\n",
    "loss(f_{\\mathbf{w},b}(\\mathbf{x}^{(i)}), 0) &= (-(0) \\log\\left(f_{\\mathbf{w},b}\\left( \\mathbf{x}^{(i)} \\right) \\right) - \\left( 1 - 0\\right) \\log \\left( 1 - f_{\\mathbf{w},b}\\left( \\mathbf{x}^{(i)} \\right) \\right) \\\\\n",
    "&= -\\log \\left( 1 - f_{\\mathbf{w},b}\\left( \\mathbf{x}^{(i)} \\right) \\right)\n",
    "\\end{align}\n",
    "$$\n",
    "and when $ y^{(i)} = 1$, the right-hand term is eliminated:\n",
    "$$\n",
    "\\begin{align}\n",
    "  loss(f_{\\mathbf{w},b}(\\mathbf{x}^{(i)}), 1) &=  (-(1) \\log\\left(f_{\\mathbf{w},b}\\left( \\mathbf{x}^{(i)} \\right) \\right) - \\left( 1 - 1\\right) \\log \\left( 1 - f_{\\mathbf{w},b}\\left( \\mathbf{x}^{(i)} \\right) \\right)\\\\\n",
    "  &=  -\\log\\left(f_{\\mathbf{w},b}\\left( \\mathbf{x}^{(i)} \\right) \\right)\n",
    "\\end{align}\n",
    "$$"
   ]
  },
  {
   "cell_type": "code",
   "execution_count": null,
   "id": "31391669-b233-436a-8e08-759f6b6a20bc",
   "metadata": {},
   "outputs": [],
   "source": []
  }
 ],
 "metadata": {
  "kernelspec": {
   "display_name": "Python 3 (ipykernel)",
   "language": "python",
   "name": "python3"
  },
  "language_info": {
   "codemirror_mode": {
    "name": "ipython",
    "version": 3
   },
   "file_extension": ".py",
   "mimetype": "text/x-python",
   "name": "python",
   "nbconvert_exporter": "python",
   "pygments_lexer": "ipython3",
   "version": "3.12.3"
  }
 },
 "nbformat": 4,
 "nbformat_minor": 5
}
