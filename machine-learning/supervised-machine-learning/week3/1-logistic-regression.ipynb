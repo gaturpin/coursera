{
 "cells": [
  {
   "cell_type": "markdown",
   "id": "b48b7838-f5bb-4686-8b86-b7c8a5dc4e2c",
   "metadata": {},
   "source": [
    "**Logistic regression**\n",
    "\n",
    "Sigmoid function or Logistic function:\n",
    " - outputs between 0 and 1\n",
    " - $g(z) = \\frac{1}{1 + e^{-z}}$ for $0 < g(z) < 1$\n",
    " - $z = \\vec{w} \\vec{x} + b$\n",
    " - put two equations together:\n",
    "\n",
    "\n",
    "$f_{\\vec{w},b} = g(\\vec{w} \\cdot \\vec{x} + b) = \\frac{1}{1 + e^{-(\\vec{w} \\cdot \\vec{x} + b)}}$"
   ]
  },
  {
   "cell_type": "markdown",
   "id": "c693c011-6e6f-4b4c-95ad-dc573a78e712",
   "metadata": {},
   "source": [
    "Example:  \n",
    "x is tumor size  \n",
    "y is 0 (not malignant) or 1 (malignant)\n",
    "\n",
    "$f_{w,b}(x) = 0.7$ - 70\\% chance that y is 1"
   ]
  },
  {
   "cell_type": "markdown",
   "id": "575313b9-09ed-4f61-bd24-c067d5690988",
   "metadata": {},
   "source": [
    "**Decision boundary**\n",
    "\n",
    "Two features, x1 x2  \n",
    "now $f_{w,b}(x)  = g(z) = g(w_1 x_1 + w_2 x_2 + b)$\n",
    "\n",
    "say w1, w2 = 1; b= -3  \n",
    "\n",
    "$z = w \\cdot x + b = 0$ - decision boundary  \n",
    "$z = x_1 + x_2 - 3 = 0$  \n",
    "so $x_1 + x_2 = 3$"
   ]
  },
  {
   "cell_type": "markdown",
   "id": "a4195242-151b-45cd-ab43-8ea2dceae931",
   "metadata": {},
   "source": [
    "**Non-linear decision boundaries**\n",
    "\n",
    "Polynomial features: $g(z) = g(w_1 x_1^2 + w_2 x_2^2 + b)$\n",
    "\n",
    "where w1, w2 = 1; b = -1  \n",
    "$x_1^2 + x_2^2 = 1$ - circle radius 1\n",
    "\n",
    "so $x_1^2 + x_2^2 < 1$ - inside circle and predict y = 0\n",
    "\n",
    "Can have higher order polynomial terms for more complex decision boundaries"
   ]
  },
  {
   "cell_type": "code",
   "execution_count": null,
   "id": "ea96fff1-1ff8-47ac-9c0e-3b695e2417cf",
   "metadata": {},
   "outputs": [],
   "source": []
  }
 ],
 "metadata": {
  "kernelspec": {
   "display_name": "Python 3 (ipykernel)",
   "language": "python",
   "name": "python3"
  },
  "language_info": {
   "codemirror_mode": {
    "name": "ipython",
    "version": 3
   },
   "file_extension": ".py",
   "mimetype": "text/x-python",
   "name": "python",
   "nbconvert_exporter": "python",
   "pygments_lexer": "ipython3",
   "version": "3.12.3"
  }
 },
 "nbformat": 4,
 "nbformat_minor": 5
}
