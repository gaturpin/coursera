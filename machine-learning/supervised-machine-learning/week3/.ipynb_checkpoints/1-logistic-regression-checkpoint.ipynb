{
 "cells": [
  {
   "cell_type": "markdown",
   "id": "b48b7838-f5bb-4686-8b86-b7c8a5dc4e2c",
   "metadata": {},
   "source": [
    "**Logistic regression**\n",
    "\n",
    "Sigmoid function or Logistic function:\n",
    " - outputs between 0 and 1\n",
    " - $g(z) = \\frac{1}{1 + e^{-z}}$ for $0 < g(z) < 1$\n",
    " - $z = \\vec{w} \\vec{x} + b$\n",
    " - put two equations together:\n",
    "\n",
    "\n",
    "$f_{\\vec{w},b} = g(\\vec{w} \\cdot \\vec{x} + b) = \\frac{1}{1 + e^{-(\\vec{w} \\cdot \\vec{x} + b)}}$"
   ]
  },
  {
   "cell_type": "markdown",
   "id": "c693c011-6e6f-4b4c-95ad-dc573a78e712",
   "metadata": {},
   "source": [
    "Example:  \n",
    "x is tumor size  \n",
    "y is 0 (not malignant) or 1 (malignant)\n",
    "\n",
    "$f_{w,b}(x) = 0.7$ - 70\\% chance that y is 1"
   ]
  },
  {
   "cell_type": "code",
   "execution_count": null,
   "id": "93b20608-9143-47f0-84b8-99677bc84d16",
   "metadata": {},
   "outputs": [],
   "source": []
  },
  {
   "cell_type": "code",
   "execution_count": null,
   "id": "36188c91-1e8d-486f-a9a7-b5ee67cea38a",
   "metadata": {},
   "outputs": [],
   "source": []
  }
 ],
 "metadata": {
  "kernelspec": {
   "display_name": "Python 3 (ipykernel)",
   "language": "python",
   "name": "python3"
  },
  "language_info": {
   "codemirror_mode": {
    "name": "ipython",
    "version": 3
   },
   "file_extension": ".py",
   "mimetype": "text/x-python",
   "name": "python",
   "nbconvert_exporter": "python",
   "pygments_lexer": "ipython3",
   "version": "3.12.3"
  }
 },
 "nbformat": 4,
 "nbformat_minor": 5
}
