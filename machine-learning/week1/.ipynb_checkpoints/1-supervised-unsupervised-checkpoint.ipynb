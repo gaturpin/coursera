{
 "cells": [
  {
   "cell_type": "markdown",
   "id": "9b3dbb16-2e44-4db1-9d08-30139239b107",
   "metadata": {},
   "source": [
    "**Supervised learning**\n",
    "\n",
    " - algos that learn x to y, or input to output mappings\n",
    " - give learning algo examples with answers\n",
    " - seeing correct pairs, learning algo can take input alone and give good predicition of output\n",
    " - e.g. spam filtering, speech recognition, machine translation, online advertising (ad, user info -> click?)\n",
    "\n",
    "Two main types of supervised learning\n",
    "\n",
    "<u>Regression algorithms:</u> predict a number from infinitely many possible outputs.\n",
    "\n",
    "         - e.g \n",
    "\n"
   ]
  },
  {
   "cell_type": "code",
   "execution_count": null,
   "id": "098ef6c4-8f95-4476-9db2-213a6ab584ff",
   "metadata": {},
   "outputs": [],
   "source": []
  }
 ],
 "metadata": {
  "kernelspec": {
   "display_name": "Python 3 (ipykernel)",
   "language": "python",
   "name": "python3"
  },
  "language_info": {
   "codemirror_mode": {
    "name": "ipython",
    "version": 3
   },
   "file_extension": ".py",
   "mimetype": "text/x-python",
   "name": "python",
   "nbconvert_exporter": "python",
   "pygments_lexer": "ipython3",
   "version": "3.12.3"
  }
 },
 "nbformat": 4,
 "nbformat_minor": 5
}
