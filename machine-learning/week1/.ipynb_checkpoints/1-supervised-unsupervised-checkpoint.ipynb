{
 "cells": [
  {
   "cell_type": "markdown",
   "id": "9b3dbb16-2e44-4db1-9d08-30139239b107",
   "metadata": {},
   "source": [
    "**Supervised learning**\n",
    "\n",
    " - algos that learn x to y, or input to output mappings\n",
    " - give learning algo examples with answers\n",
    " - seeing correct pairs, learning algo can take input alone and give good predicition of output\n",
    " - e.g. spam filtering, speech recognition, machine translation, online advertising (ad, user info -> click?)\n",
    "\n",
    "Two main types of supervised learning algorithms  \n",
    "<u>Regression:</u> Predict a number from infinitely many possible outputs. e.g. line fit to data / predict price of houses  \n",
    "<u>Classification:</u> Only certain number of outputs/catagories. e.g. cancer detection (malignant/benign)  \n",
    "\n",
    "\n"
   ]
  },
  {
   "cell_type": "markdown",
   "id": "8811bd41-a8ac-4d13-ad50-66430a649be7",
   "metadata": {},
   "source": [
    "**Unsupervised learning**\n",
    "\n",
    " - Fid something interesting in unlabled data\n",
    "\n",
    "<u>Clustering:</u> Finds clusters of data in unlabled data sets. Groups data points together  \n",
    "<u>Anomaly detection:</u> Find unusual data points. Useful in financal fraud  \n",
    "<u>Dimensionality reduction:</u> Compress data sets while losing as little information as possible  "
   ]
  },
  {
   "cell_type": "code",
   "execution_count": null,
   "id": "9496fdf7-9ee7-43ec-b52e-0e183a6c4766",
   "metadata": {},
   "outputs": [],
   "source": []
  }
 ],
 "metadata": {
  "kernelspec": {
   "display_name": "Python 3 (ipykernel)",
   "language": "python",
   "name": "python3"
  },
  "language_info": {
   "codemirror_mode": {
    "name": "ipython",
    "version": 3
   },
   "file_extension": ".py",
   "mimetype": "text/x-python",
   "name": "python",
   "nbconvert_exporter": "python",
   "pygments_lexer": "ipython3",
   "version": "3.12.3"
  }
 },
 "nbformat": 4,
 "nbformat_minor": 5
}
