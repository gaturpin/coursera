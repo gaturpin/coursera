{
 "cells": [
  {
   "cell_type": "markdown",
   "id": "4bddabb5-963d-4304-a577-e901c6ae96df",
   "metadata": {},
   "source": [
    "**MNIST Example**  \n",
    "\n",
    "Discrete outputs but not just 0 and 1  \n"
   ]
  },
  {
   "cell_type": "markdown",
   "id": "a34e3f69-e2d7-49b4-98f7-432950ba7630",
   "metadata": {},
   "source": [
    "**Softmax**  \n",
    "\n",
    "Generalised logistic regression for multiclass classification  \n",
    "\n",
    "<u> Logistic regression: <u/>  \n",
    "\n",
    "z = w.x + b  \n",
    "a = g(x) = 1/(1+e^-z)  \n",
    "a1 + a2 = 1  \n",
    "\n",
    "<u> Softmax regression with 4 possible outputs <u/>  \n",
    "\n",
    "z1 = w1.x + b\n",
    "z2 = w2.x + b2 etc..  \n",
    "\n",
    "a1 = e*z1/(e^z1 + e^z2 + e^z3 + e^z4) = P(y=1|x)  \n",
    "a2 = e^z2/ ...  \n",
    "etc...   \n",
    "\n",
    "<u> Softmax regression, N possible outputs <u/>  \n",
    "\n",
    "$z_j = w_j \\cdot b_j$  \n",
    "$a_j = \\frac{e^{z_j}}{\\sum_{k=1}^{N}e^{z_k}}$   $= P(y=j|x)$  \n",
    "\n",
    "If N = 2, reduces to logistic regression  \n",
    "\n",
    "\n"
   ]
  },
  {
   "cell_type": "markdown",
   "id": "8ca16fcc-196a-4994-8fd7-4b8714fe1b39",
   "metadata": {},
   "source": [
    "**How to specify cost function**  \n",
    "\n",
    "logistic regression:  \n",
    "$loss = ylog(a_1) - (1-y)log(1-a_1)$  \n",
    "\n",
    "softmax:  \n",
    "$loss(a_1, ..., a_N, y) = -log a_1$  if y = 1  \n",
    "$-log a_2$  if y = 2\n",
    "etc...  \n",
    "\n"
   ]
  },
  {
   "cell_type": "markdown",
   "id": "6b989d2b-6469-4ba5-a791-63ab8ffdcb1a",
   "metadata": {},
   "source": [
    "**How to do this**  \n",
    "\n",
    "Softmax will have a softmax layer  \n",
    "Output layer with N number of neurons  \n",
    "Calculate $z = w_1 \\cdot a^[2] + b_1$ etc...  \n",
    "\n",
    "Softmax activation is unusual because a1 is a function of z1,z2,...,zn  \n",
    "Unique property of softmax activation - unlike other activations we've seen so far\n",
    "\n",
    "**In tensorflow:**\n",
    "\n",
    "\n"
   ]
  },
  {
   "cell_type": "code",
   "execution_count": null,
   "id": "b3ca1984-8b0b-450a-9aff-932bebf1ba2a",
   "metadata": {},
   "outputs": [],
   "source": [
    "import tensorflow as tf\n",
    "from tf.keras import Sequential\n",
    "from tf.keras.layers import Dense\n",
    "\n",
    "model = Sequential([\n",
    "    Dense(units=25, activation='relu'),\n",
    "    Dense(units=15, activation='relu'),\n",
    "    Dense(units=10, activation='softmax')\n",
    "])\n",
    "\n",
    "model.compile(loss=SparseCategoricalCrossentropy()) #classifies y into catagories\n",
    "                                                    #spoarce because y can only take one of these 10 values\n",
    "\n",
    "model.fit(X,Y,epochs=100)"
   ]
  },
  {
   "cell_type": "markdown",
   "id": "d375b2b6-e07e-43d7-ada2-30ed1aa9d559",
   "metadata": {},
   "source": [
    "This code works but there is a better version to implement this.  \n",
    "This version results in subtractive cancellation -> error\n",
    "\n",
    "For logistic regression:"
   ]
  },
  {
   "cell_type": "code",
   "execution_count": null,
   "id": "838c4dcf-a66a-48c0-b018-b383b510a61b",
   "metadata": {},
   "outputs": [],
   "source": [
    "import tensorflow as tf\n",
    "from tf.keras import Sequential\n",
    "from tf.keras.layers import Dense\n",
    "\n",
    "model = Sequential([\n",
    "    Dense(units=25, activation='relu'),\n",
    "    Dense(units=15, activation='relu'),softmax\n",
    "    Dense(units=1, activation='sigmoid')\n",
    "])\n",
    "\n",
    "model.compile(loss=BinaryCrossEntroy(from_logits=True))\n",
    "\n",
    "model.fit(X,Y,epochs=100)"
   ]
  },
  {
   "cell_type": "markdown",
   "id": "4a8c8174-53fa-4628-9d19-83032757df86",
   "metadata": {},
   "source": [
    "Tensor flow will re-arrange terms to become more accurate  \n",
    "Becomes lkess legible but causes less roundoff error  \n",
    "\n",
    "**For Softmax**"
   ]
  },
  {
   "cell_type": "code",
   "execution_count": null,
   "id": "065cb75f-7190-4865-8f03-e6c6328c6af5",
   "metadata": {},
   "outputs": [],
   "source": [
    "import tensorflow as tf\n",
    "from tf.keras import Sequential\n",
    "from tf.keras.layers import Dense\n",
    "\n",
    "model = Sequential([\n",
    "    Dense(units=25, activation='relu'),\n",
    "    Dense(units=15, activation='relu'),\n",
    "    Dense(units=10, activation='linear')\n",
    "])\n",
    "\n",
    "model.compile(loss=SparseCategoricalCrossentropy(from_logits=True)) #classifies y into catagories\n",
    "                                                    #spoarce because y can only take one of these 10 values\n",
    "\n",
    "model.fit(X,Y,epochs=100)"
   ]
  },
  {
   "cell_type": "code",
   "execution_count": null,
   "id": "a4a5ba26-0354-4fb1-ab42-1c985c4b6e70",
   "metadata": {},
   "outputs": [],
   "source": []
  }
 ],
 "metadata": {
  "kernelspec": {
   "display_name": "Python 3 (ipykernel)",
   "language": "python",
   "name": "python3"
  },
  "language_info": {
   "codemirror_mode": {
    "name": "ipython",
    "version": 3
   },
   "file_extension": ".py",
   "mimetype": "text/x-python",
   "name": "python",
   "nbconvert_exporter": "python",
   "pygments_lexer": "ipython3",
   "version": "3.12.3"
  }
 },
 "nbformat": 4,
 "nbformat_minor": 5
}
