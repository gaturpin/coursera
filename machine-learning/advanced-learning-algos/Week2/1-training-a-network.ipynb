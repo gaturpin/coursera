{
 "cells": [
  {
   "cell_type": "code",
   "execution_count": 11,
   "id": "021fe1b1-82c8-4637-902c-c2dc6b11c57a",
   "metadata": {},
   "outputs": [],
   "source": [
    "#basic neural network, also called a multilayer perceptron"
   ]
  },
  {
   "cell_type": "code",
   "execution_count": 1,
   "id": "0fe22f12-fb4e-49f1-908e-dd57f0edfc36",
   "metadata": {},
   "outputs": [
    {
     "ename": "ModuleNotFoundError",
     "evalue": "No module named 'tensorflow'",
     "output_type": "error",
     "traceback": [
      "\u001b[0;31m---------------------------------------------------------------------------\u001b[0m",
      "\u001b[0;31mModuleNotFoundError\u001b[0m                       Traceback (most recent call last)",
      "Cell \u001b[0;32mIn[1], line 1\u001b[0m\n\u001b[0;32m----> 1\u001b[0m \u001b[38;5;28;01mimport\u001b[39;00m \u001b[38;5;21;01mtensorflow\u001b[39;00m \u001b[38;5;28;01mas\u001b[39;00m \u001b[38;5;21;01mtf\u001b[39;00m\n\u001b[1;32m      2\u001b[0m \u001b[38;5;28;01mfrom\u001b[39;00m \u001b[38;5;21;01mtensorflow\u001b[39;00m\u001b[38;5;21;01m.\u001b[39;00m\u001b[38;5;21;01mkeras\u001b[39;00m \u001b[38;5;28;01mimport\u001b[39;00m Sequential\n\u001b[1;32m      3\u001b[0m \u001b[38;5;28;01mfrom\u001b[39;00m \u001b[38;5;21;01mtensorflow\u001b[39;00m\u001b[38;5;21;01m.\u001b[39;00m\u001b[38;5;21;01mkeras\u001b[39;00m\u001b[38;5;21;01m.\u001b[39;00m\u001b[38;5;21;01mlayers\u001b[39;00m \u001b[38;5;28;01mimport\u001b[39;00m Dense\n",
      "\u001b[0;31mModuleNotFoundError\u001b[0m: No module named 'tensorflow'"
     ]
    }
   ],
   "source": [
    "import tensorflow as tf\n",
    "from tensorflow.keras import Sequential\n",
    "from tensorflow.keras.layers import Dense"
   ]
  },
  {
   "cell_type": "code",
   "execution_count": 4,
   "id": "ebcfe14c-d59e-436d-8d4f-e7c7d3ac6f2a",
   "metadata": {},
   "outputs": [],
   "source": [
    "model = Sequential([\n",
    "    Dense(units=25, activation='sigmoid'),\n",
    "    Dense(units=15, activation='sigmoid'),\n",
    "    Dense(units=1, activation='sigmoid')])"
   ]
  },
  {
   "cell_type": "markdown",
   "id": "6a0e25b8-fe69-448e-996e-10cd8b67ee29",
   "metadata": {},
   "source": [
    "Now ask tensorflow to compile model  \n",
    "Must specify loss function"
   ]
  },
  {
   "cell_type": "code",
   "execution_count": 5,
   "id": "5806653d-3e27-48d5-8681-fa7aa6be4189",
   "metadata": {},
   "outputs": [],
   "source": [
    "from tensorflow.keras.losses import BinaryCrossentropy"
   ]
  },
  {
   "cell_type": "code",
   "execution_count": 10,
   "id": "2c0995bf-e89e-4ee3-a968-dde86223fe1f",
   "metadata": {},
   "outputs": [],
   "source": [
    "model.compile(loss=BinaryCrossentropy)"
   ]
  },
  {
   "cell_type": "markdown",
   "id": "0dcb6155-4990-4a35-a81c-849e170d5988",
   "metadata": {},
   "source": [
    "Binary Crossentropy loss function is the same as logistic loss function.  \n",
    "Binary because either a 0 or a 1.  \n",
    "\n",
    "If you want regression instead of classification, just specify different loss.  \n",
    "Squared error loss: MeanSquaredError() - will  try to minimise mean squared error.  "
   ]
  },
  {
   "cell_type": "code",
   "execution_count": 8,
   "id": "c44dead4-22ee-4d9a-8e57-17746dc9839d",
   "metadata": {},
   "outputs": [],
   "source": [
    "#model.fit(X, Y, epochs = 100) - no data, can't run"
   ]
  },
  {
   "cell_type": "markdown",
   "id": "06726026-587d-4bf9-87b4-2c60dee48506",
   "metadata": {},
   "source": [
    "**Back propagation**  \n",
    "used to calculate derivatives for gradient descent  \n",
    "implemented in the .fit()"
   ]
  },
  {
   "cell_type": "code",
   "execution_count": null,
   "id": "57e55070-a4f3-4325-9241-2ff3400ba4d9",
   "metadata": {},
   "outputs": [],
   "source": []
  }
 ],
 "metadata": {
  "kernelspec": {
   "display_name": "Python 3 (ipykernel)",
   "language": "python",
   "name": "python3"
  },
  "language_info": {
   "codemirror_mode": {
    "name": "ipython",
    "version": 3
   },
   "file_extension": ".py",
   "mimetype": "text/x-python",
   "name": "python",
   "nbconvert_exporter": "python",
   "pygments_lexer": "ipython3",
   "version": "3.12.3"
  }
 },
 "nbformat": 4,
 "nbformat_minor": 5
}
