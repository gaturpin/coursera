{
 "cells": [
  {
   "cell_type": "code",
   "execution_count": 1,
   "id": "8faae930-7936-4de5-8af4-2f5b2f861429",
   "metadata": {},
   "outputs": [
    {
     "name": "stderr",
     "output_type": "stream",
     "text": [
      "2024-05-16 16:36:17.815873: I tensorflow/core/platform/cpu_feature_guard.cc:182] This TensorFlow binary is optimized to use available CPU instructions in performance-critical operations.\n",
      "To enable the following instructions: SSE4.1 SSE4.2 AVX AVX2 FMA, in other operations, rebuild TensorFlow with the appropriate compiler flags.\n"
     ]
    }
   ],
   "source": [
    "import numpy as np\n",
    "import tensorflow as tf"
   ]
  },
  {
   "cell_type": "code",
   "execution_count": 18,
   "id": "e837d810-f241-4415-bc19-1f672526e97a",
   "metadata": {},
   "outputs": [],
   "source": [
    "#How to implement a model\n",
    "x = np.array([[200., 17.]]) #needs to be 2d array for tensorflow\n",
    "layer_1 = tf.keras.layers.Dense(units = 3, activation='sigmoid') #first layer has 3 neurons\n",
    "a1 = layer_1(x)\n",
    "\n",
    "layer_2 = tf.keras.layers.Dense(units = 1, activation = 'sigmoid')#Second layer/output layer has 1 neuron\n",
    "a2 = layer_2(a1) #output value"
   ]
  },
  {
   "cell_type": "markdown",
   "id": "ee5edc26-5fae-42fc-84ec-2f093ed967a7",
   "metadata": {},
   "source": [
    "Need 2D because matrix  \n",
    "Can't use 1D array\n",
    "\n",
    "[200 17] = np.array([[200, 17]]) = 1X2 matrix  \n",
    "np.array([200,17]) is just a 1D array."
   ]
  },
  {
   "cell_type": "code",
   "execution_count": 19,
   "id": "28c9f73a-0b76-427c-8e27-aeb64d1bf3ed",
   "metadata": {},
   "outputs": [
    {
     "data": {
      "text/plain": [
       "<tf.Tensor: shape=(1, 3), dtype=float32, numpy=array([[1., 0., 1.]], dtype=float32)>"
      ]
     },
     "execution_count": 19,
     "metadata": {},
     "output_type": "execute_result"
    }
   ],
   "source": [
    "a1"
   ]
  },
  {
   "cell_type": "markdown",
   "id": "c564b528-5b07-4f89-b361-10b37a7eea1c",
   "metadata": {},
   "source": [
    "a1 is a 1x3 matrix"
   ]
  },
  {
   "cell_type": "code",
   "execution_count": 21,
   "id": "6696be0c-f215-48b0-a618-7d7397e882f1",
   "metadata": {},
   "outputs": [
    {
     "data": {
      "text/plain": [
       "<tf.Tensor: shape=(1, 1), dtype=float32, numpy=array([[0.91034997]], dtype=float32)>"
      ]
     },
     "execution_count": 21,
     "metadata": {},
     "output_type": "execute_result"
    }
   ],
   "source": [
    "a2"
   ]
  },
  {
   "cell_type": "code",
   "execution_count": 22,
   "id": "e1bb46af-4ac0-41b3-a566-cbb94f5ed289",
   "metadata": {},
   "outputs": [
    {
     "data": {
      "text/plain": [
       "array([[0.91034997]], dtype=float32)"
      ]
     },
     "execution_count": 22,
     "metadata": {},
     "output_type": "execute_result"
    }
   ],
   "source": [
    "#can convert to numpy array with:\n",
    "a2.numpy()"
   ]
  },
  {
   "cell_type": "markdown",
   "id": "2aa702a2-f427-485f-bc3a-018bd0865b28",
   "metadata": {},
   "source": [
    "Passing np.array into tensorflow converts it to tf.Tensor"
   ]
  },
  {
   "cell_type": "markdown",
   "id": "a64caa5f-718f-4144-930d-1653f63d97b0",
   "metadata": {},
   "source": [
    "Don't need to pass a1 into layer_2  \n",
    "We can use Sequential"
   ]
  },
  {
   "cell_type": "code",
   "execution_count": 23,
   "id": "0e08f624-826a-4970-ad05-d25b2fab5726",
   "metadata": {},
   "outputs": [],
   "source": [
    "layer_1 = tf.keras.layers.Dense(units=3, activation = 'sigmoid')\n",
    "layer_2 = tf.keras.layers.Dense(units=1, activation = 'sigmoid')\n",
    "model = tf.keras.Sequential([layer_1, layer_2])"
   ]
  },
  {
   "cell_type": "code",
   "execution_count": 24,
   "id": "f6d32d93-a421-4b28-b8a7-9de384fb82ee",
   "metadata": {},
   "outputs": [],
   "source": [
    "x = np.array([[200., 17.],\n",
    "              [120., 5.],\n",
    "              [425.,20.],\n",
    "              [212., 18.]])\n",
    "y = np.array([1,0,0,1])"
   ]
  },
  {
   "cell_type": "markdown",
   "id": "b665352f-a381-409b-9746-1fe0542e5f6c",
   "metadata": {},
   "source": [
    "To train the model on data need these two lines:  \n",
    "model.compile(...)  \n",
    "model.fit(x,y)  \n",
    "\n",
    "model.predict(x_new) - outputs correspoding value of a2 given value of x"
   ]
  },
  {
   "cell_type": "code",
   "execution_count": null,
   "id": "5097948b-2788-49be-a761-32d790c44a47",
   "metadata": {},
   "outputs": [],
   "source": [
    "#Better to write code like this:\n",
    "\n",
    "model = tf.keras.Sequential([\n",
    "    tf.keras.layers.Dense(units = 3, activation='sigmoid'),\n",
    "    tf.keras.layers.Dense(units = 1, activation='sigmoid')])\n"
   ]
  }
 ],
 "metadata": {
  "kernelspec": {
   "display_name": "Python 3 (ipykernel)",
   "language": "python",
   "name": "python3"
  },
  "language_info": {
   "codemirror_mode": {
    "name": "ipython",
    "version": 3
   },
   "file_extension": ".py",
   "mimetype": "text/x-python",
   "name": "python",
   "nbconvert_exporter": "python",
   "pygments_lexer": "ipython3",
   "version": "3.11.5"
  }
 },
 "nbformat": 4,
 "nbformat_minor": 5
}
