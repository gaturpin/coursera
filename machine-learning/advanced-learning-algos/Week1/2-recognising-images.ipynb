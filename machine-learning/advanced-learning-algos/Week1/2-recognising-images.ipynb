{
 "cells": [
  {
   "cell_type": "markdown",
   "id": "e8a42ad2-af4c-4a25-a0fa-9b63d0e7d941",
   "metadata": {},
   "source": [
    "**Facial recognition**  \n",
    "Image is initial data.  \n",
    "Make image a vector of cell brightnesses  \n",
    "Hidden layers  \n",
    "Output layer estimates prob of image being a particular person  \n",
    "\n",
    "When you train a system like this;  \n",
    " - earliest layers might be looking for short lines/edges in image\n",
    " - next hidden layer might learn to group short lines to find parts of faces, e.g. eyes\n",
    " - Next layer starts to aggregate facial features and how faces correspond to face shapes\n",
    "\n",
    "Noone has told it to do any of this, figures it all out itself from data.  \n",
    "\n"
   ]
  },
  {
   "cell_type": "code",
   "execution_count": null,
   "id": "f875c632-f933-4c42-bb7b-9186909ffc88",
   "metadata": {},
   "outputs": [],
   "source": []
  }
 ],
 "metadata": {
  "kernelspec": {
   "display_name": "Python 3 (ipykernel)",
   "language": "python",
   "name": "python3"
  },
  "language_info": {
   "codemirror_mode": {
    "name": "ipython",
    "version": 3
   },
   "file_extension": ".py",
   "mimetype": "text/x-python",
   "name": "python",
   "nbconvert_exporter": "python",
   "pygments_lexer": "ipython3",
   "version": "3.12.3"
  }
 },
 "nbformat": 4,
 "nbformat_minor": 5
}
