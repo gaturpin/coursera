{
 "cells": [
  {
   "cell_type": "markdown",
   "id": "33c1232b-9011-4b15-be6c-9eddcc183976",
   "metadata": {},
   "source": [
    "**Evaluating and choosing models**  \n",
    "\n",
    "How to evaluate how model is doing when has more than 2 features:  \n",
    " - difficult to plot f(x) with more than 2 features\n",
    " - Split data into training set (70%) and test set (30%)\n",
    " - Train model params on training set then test on test set\n",
    "\n",
    "Compute test error:\n",
    "$$ J_{test}(w,b) = \\frac{1}{2m_{test}} (\\sum_{i=1}^{m_{test}} (f_{w,b}(x^{(i)}_{test} - i^{(i)}_{test})^2 ) $$\n",
    "\n",
    "No regularisation term  \n",
    "And training error, equivalent to above but _train  \n",
    "\n",
    "**Train/test proicedure for classification problem**  \n",
    "\n",
    " - Fit params by minimising J to find w,b  \n",
    " - Find logistic loss and compute test error\n",
    " - Not squared error as above, the logistic loss function in its place\n",
    "\n",
    "$J_{test}$ and $J_{train}$ is the fraction of each set that has been misclassified  \n",
    "$J_{test}$ is a good measure of how model will work with new data \n"
   ]
  },
  {
   "cell_type": "markdown",
   "id": "aef6d98a-4241-4542-8ab5-f361109e412e",
   "metadata": {},
   "source": [
    "**Model selection**  \n",
    "\n",
    "Split data into 3 sections:\n",
    " - Training (60%)\n",
    " - Cross validation (20%)\n",
    " - Test (20%)\n",
    "\n",
    "Cross validation set: also called validation set/development set/dev set  \n",
    "\n",
    "Can compute errors for all 3 sets  \n",
    "\n",
    "polynomials:  \n",
    "d = 1; 1st order polynomial\n",
    "d = n; nth order polynomail  \n",
    "\n",
    " - evalute error $J_{cv}$ for all ns using cross validation data set\n",
    " - Find which model has lowest cross validation error\n",
    " - Not used test data set yet so can use this to check\n",
    " - $J_{test}$ - generalisation error\n",
    "\n",
    "So fit parameters with Training set; selected polynomial with cv set  "
   ]
  },
  {
   "cell_type": "markdown",
   "id": "e72eda59-cf80-4c98-b7e4-c406c677ebb0",
   "metadata": {},
   "source": [
    "**Choosing neural network architecture**  \n",
    "\n",
    "Calculate $J_{cv}$ for different models, pick model with lowest cv error  \n",
    "Use test set to estimate how well neural network will do\n",
    "\n",
    "Don't look at test set when trying to make decisions on model selection  \n",
    "Only look at once model has been picked"
   ]
  },
  {
   "cell_type": "code",
   "execution_count": null,
   "id": "ce12184a-0ae5-480a-b533-5227029ab5b8",
   "metadata": {},
   "outputs": [],
   "source": []
  }
 ],
 "metadata": {
  "kernelspec": {
   "display_name": "Python 3 (ipykernel)",
   "language": "python",
   "name": "python3"
  },
  "language_info": {
   "codemirror_mode": {
    "name": "ipython",
    "version": 3
   },
   "file_extension": ".py",
   "mimetype": "text/x-python",
   "name": "python",
   "nbconvert_exporter": "python",
   "pygments_lexer": "ipython3",
   "version": "3.11.5"
  }
 },
 "nbformat": 4,
 "nbformat_minor": 5
}
