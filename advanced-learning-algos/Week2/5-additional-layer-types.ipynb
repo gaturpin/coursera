{
 "cells": [
  {
   "cell_type": "markdown",
   "id": "380aa753-29ca-49e1-b391-2479df153025",
   "metadata": {},
   "source": [
    "**Dense**\n",
    "\n",
    " - Only been using the dense layer type so far\n",
    " - Every neuron in a layer gets access to all activations from the previous layer#"
   ]
  },
  {
   "cell_type": "markdown",
   "id": "8472971f-726e-4c3b-9937-37663292f963",
   "metadata": {},
   "source": [
    "**Convolutional Layer**  \n",
    "\n",
    " - Each neuron onlyh looks at part of the previous layer's output\n",
    " - Faster computation\n",
    " - Need less training data / less prone to overfitting\n",
    "\n",
    "e.g ECGs:  \n",
    " - Continuous heartbeat signal\n",
    " - Each neuron only looks at limited window of time series input\n",
    " - Next layer could look at first 5 activations etc...\n"
   ]
  },
  {
   "cell_type": "code",
   "execution_count": null,
   "id": "914cf1b7-6cd9-4a37-a66b-3c2b2cd039c3",
   "metadata": {},
   "outputs": [],
   "source": []
  }
 ],
 "metadata": {
  "kernelspec": {
   "display_name": "Python 3 (ipykernel)",
   "language": "python",
   "name": "python3"
  },
  "language_info": {
   "codemirror_mode": {
    "name": "ipython",
    "version": 3
   },
   "file_extension": ".py",
   "mimetype": "text/x-python",
   "name": "python",
   "nbconvert_exporter": "python",
   "pygments_lexer": "ipython3",
   "version": "3.11.5"
  }
 },
 "nbformat": 4,
 "nbformat_minor": 5
}
