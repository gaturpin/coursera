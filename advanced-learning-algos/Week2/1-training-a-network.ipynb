{
 "cells": [
  {
   "cell_type": "code",
   "execution_count": 11,
   "id": "021fe1b1-82c8-4637-902c-c2dc6b11c57a",
   "metadata": {},
   "outputs": [],
   "source": [
    "#basic neural network, also called a multilayer perceptron"
   ]
  },
  {
   "cell_type": "code",
   "execution_count": 1,
   "id": "0fe22f12-fb4e-49f1-908e-dd57f0edfc36",
   "metadata": {},
   "outputs": [
    {
     "name": "stderr",
     "output_type": "stream",
     "text": [
      "2024-06-11 11:19:52.379453: I tensorflow/core/platform/cpu_feature_guard.cc:182] This TensorFlow binary is optimized to use available CPU instructions in performance-critical operations.\n",
      "To enable the following instructions: SSE4.1 SSE4.2 AVX AVX2 FMA, in other operations, rebuild TensorFlow with the appropriate compiler flags.\n"
     ]
    }
   ],
   "source": [
    "import tensorflow as tf\n",
    "from tensorflow.keras import Sequential\n",
    "from tensorflow.keras.layers import Dense"
   ]
  },
  {
   "cell_type": "code",
   "execution_count": 2,
   "id": "ebcfe14c-d59e-436d-8d4f-e7c7d3ac6f2a",
   "metadata": {},
   "outputs": [
    {
     "name": "stderr",
     "output_type": "stream",
     "text": [
      "2024-06-11 11:20:00.450108: I tensorflow/core/common_runtime/process_util.cc:146] Creating new thread pool with default inter op setting: 2. Tune using inter_op_parallelism_threads for best performance.\n"
     ]
    }
   ],
   "source": [
    "model = Sequential([\n",
    "    Dense(units=25, activation='sigmoid'),\n",
    "    Dense(units=15, activation='sigmoid'),\n",
    "    Dense(units=1, activation='sigmoid')])"
   ]
  },
  {
   "cell_type": "markdown",
   "id": "6a0e25b8-fe69-448e-996e-10cd8b67ee29",
   "metadata": {},
   "source": [
    "Now ask tensorflow to compile model  \n",
    "Must specify loss function"
   ]
  },
  {
   "cell_type": "code",
   "execution_count": 3,
   "id": "5806653d-3e27-48d5-8681-fa7aa6be4189",
   "metadata": {},
   "outputs": [],
   "source": [
    "from tensorflow.keras.losses import BinaryCrossentropy"
   ]
  },
  {
   "cell_type": "code",
   "execution_count": 4,
   "id": "2c0995bf-e89e-4ee3-a968-dde86223fe1f",
   "metadata": {},
   "outputs": [],
   "source": [
    "model.compile(loss=BinaryCrossentropy)"
   ]
  },
  {
   "cell_type": "markdown",
   "id": "0dcb6155-4990-4a35-a81c-849e170d5988",
   "metadata": {},
   "source": [
    "Binary Crossentropy loss function is the same as logistic loss function.  \n",
    "Binary because either a 0 or a 1.  \n",
    "\n",
    "If you want regression instead of classification, just specify different loss.  \n",
    "Squared error loss: MeanSquaredError() - will  try to minimise mean squared error.  "
   ]
  },
  {
   "cell_type": "code",
   "execution_count": 5,
   "id": "c44dead4-22ee-4d9a-8e57-17746dc9839d",
   "metadata": {},
   "outputs": [],
   "source": [
    "#model.fit(X, Y, epochs = 100) - no data, can't run"
   ]
  },
  {
   "cell_type": "markdown",
   "id": "06726026-587d-4bf9-87b4-2c60dee48506",
   "metadata": {},
   "source": [
    "**Back propagation**  \n",
    "used to calculate derivatives for gradient descent  \n",
    "implemented in the .fit()"
   ]
  },
  {
   "cell_type": "code",
   "execution_count": null,
   "id": "57e55070-a4f3-4325-9241-2ff3400ba4d9",
   "metadata": {},
   "outputs": [],
   "source": []
  }
 ],
 "metadata": {
  "kernelspec": {
   "display_name": "Python 3 (ipykernel)",
   "language": "python",
   "name": "python3"
  },
  "language_info": {
   "codemirror_mode": {
    "name": "ipython",
    "version": 3
   },
   "file_extension": ".py",
   "mimetype": "text/x-python",
   "name": "python",
   "nbconvert_exporter": "python",
   "pygments_lexer": "ipython3",
   "version": "3.11.5"
  }
 },
 "nbformat": 4,
 "nbformat_minor": 5
}
