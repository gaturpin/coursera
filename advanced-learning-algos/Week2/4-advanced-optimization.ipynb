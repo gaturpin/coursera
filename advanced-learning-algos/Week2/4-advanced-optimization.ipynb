{
 "cells": [
  {
   "cell_type": "markdown",
   "id": "047520e3-a880-4cdd-97e1-85cc966772d2",
   "metadata": {},
   "source": [
    "**Gradient Descent**  \n",
    "\n",
    "<u> Adam algorithm <u/>  \n",
    " - Adaptive Moment estimation\n",
    " - Adjusts the learning rate automatically\n",
    " - If $w_j$ (or b) keeps moving in same direction, increase $\\alpha$\n",
    " - If $w_j$ (or b) keeps oscillating, decrease $\\alpha$\n",
    " - Details beyond scope of this course"
   ]
  },
  {
   "cell_type": "code",
   "execution_count": 4,
   "id": "8e41f7a2-aaa0-4cd0-8bb8-e6f84a2688a1",
   "metadata": {},
   "outputs": [],
   "source": [
    "import tensorflow as tf\n",
    "from tensorflow.keras import Sequential\n",
    "from tensorflow.keras.layers import Dense"
   ]
  },
  {
   "cell_type": "code",
   "execution_count": 11,
   "id": "63fcebb8-0a10-40c9-8f2a-39c7d094f010",
   "metadata": {},
   "outputs": [],
   "source": [
    "#how to implement Adams algo\n",
    "\n",
    "model = Sequential([\n",
    "    Dense(units = 25, activation = 'sigmoid'),\n",
    "    Dense(units = 15, activation = 'sigmoid'),\n",
    "    Dense(units = 10, activation = 'linear')\n",
    "])\n",
    "\n",
    "model.compile(optimizer = tf.keras.optimizers.Adam(learning_rate = 1e-3),\n",
    "              loss = tf.keras.losses.SparseCategoricalCrossentropy(from_logits=True))\n",
    "\n",
    "#model.fit(X,Y,epochs = 100)"
   ]
  },
  {
   "cell_type": "code",
   "execution_count": null,
   "id": "29fa1444-b3d6-4b44-a6e0-a6d606f9ecdf",
   "metadata": {},
   "outputs": [],
   "source": []
  },
  {
   "cell_type": "code",
   "execution_count": null,
   "id": "89838983-ab58-4166-8db4-b72087f9ad2e",
   "metadata": {},
   "outputs": [],
   "source": []
  }
 ],
 "metadata": {
  "kernelspec": {
   "display_name": "Python 3 (ipykernel)",
   "language": "python",
   "name": "python3"
  },
  "language_info": {
   "codemirror_mode": {
    "name": "ipython",
    "version": 3
   },
   "file_extension": ".py",
   "mimetype": "text/x-python",
   "name": "python",
   "nbconvert_exporter": "python",
   "pygments_lexer": "ipython3",
   "version": "3.11.5"
  }
 },
 "nbformat": 4,
 "nbformat_minor": 5
}
