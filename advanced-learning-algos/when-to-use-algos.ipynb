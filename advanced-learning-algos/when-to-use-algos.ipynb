{
 "cells": [
  {
   "cell_type": "markdown",
   "id": "b4ac40e9-538f-423d-8514-9a1ad20363fa",
   "metadata": {},
   "source": [
    "**When to use decision trees**  \n",
    "\n",
    "Decisions Trees and Tree ensembles:\n",
    " - works well on tabular (structured) data\n",
    " - Not recommended for unstructred data - images, audio, text\n",
    " - Fast to train\n",
    " - Small decision tress may be human interpretable - print out tree to understand how it's making decisions\n",
    "\n",
    "Neural Networks:\n",
    " - Works well on all types of data (incl. tabular/structured + unstructred)\n",
    " - May be slower than decision tree\n",
    " - Works with transfer learning\n",
    " - When building system of multiple models, may be easier to string multiple neural networks together"
   ]
  },
  {
   "cell_type": "code",
   "execution_count": null,
   "id": "36856f3c-20c9-4421-b794-e0f92ce4f67f",
   "metadata": {},
   "outputs": [],
   "source": []
  }
 ],
 "metadata": {
  "kernelspec": {
   "display_name": "Python 3 (ipykernel)",
   "language": "python",
   "name": "python3"
  },
  "language_info": {
   "codemirror_mode": {
    "name": "ipython",
    "version": 3
   },
   "file_extension": ".py",
   "mimetype": "text/x-python",
   "name": "python",
   "nbconvert_exporter": "python",
   "pygments_lexer": "ipython3",
   "version": "3.11.5"
  }
 },
 "nbformat": 4,
 "nbformat_minor": 5
}
