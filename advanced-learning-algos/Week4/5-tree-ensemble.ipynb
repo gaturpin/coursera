{
 "cells": [
  {
   "cell_type": "markdown",
   "id": "f428718a-4f52-4d4b-8896-425ece8577dd",
   "metadata": {},
   "source": [
    "**Using multiple decision trees**  \n",
    "\n",
    " - Trees are highly sensitive to small changes of the data\n",
    " - Run all trees and then they vote on final prediction\n",
    " - Makes algo less sensitive to what an individual tree would predict\n",
    "\n",
    "**Sampling with replacement**  \n",
    "\n",
    "Used to create a training set similar to but slightly different to initial dataset."
   ]
  },
  {
   "cell_type": "markdown",
   "id": "f9f636f0-87ac-4812-b94d-020c3b487360",
   "metadata": {},
   "source": [
    "**Generating a tree sample**  \n",
    "\n",
    " - Given training set of size m\n",
    " - For b =1 to B:\n",
    "    - Use sampling with replacement to create new training set of size m\n",
    "    - Train decision tree on new dataset\n",
    "\n",
    "\n",
    "Bagged decision tree - putting training example into a 'bag'  \n",
    "\n",
    "**Random forest algo**  \n",
    "Randomising feature choice (Random forest algorithm):  \n",
    " - Done at each node when choosing a feature to use to split\n",
    " - If n features are available\n",
    " - Pick random subset of k<n features\n",
    " - Allow algo to only choose from that subset of features\n",
    " - k = sqrt(n)\n",
    "\n"
   ]
  },
  {
   "cell_type": "markdown",
   "id": "dcd6096f-b8a7-430a-b729-146ffead5a95",
   "metadata": {},
   "source": [
    "**XGBoost (eXtreme Gradient Boosting)**  \n",
    "\n",
    "Most common  \n",
    "\n",
    "Modification to bagged decision tree:  \n",
    " - instead of picking examples all with same probability\n",
    " - Give misclassified examples higher probability of being picked\n",
    " - Helps algo learn to do better more quickly\n",
    "\n",
    "Then:\n",
    " - First tree gets built\n",
    " - Go through initial training set\n",
    " - Check if classification correct or not\n",
    " - Use sampling with replacement but with higher chance to be an example that was misclassified\n",
    "\n",
    "Will do this for each tree iteration\n",
    "\n",
    "Wins a lot of kaggle competitions because it's quick"
   ]
  },
  {
   "cell_type": "code",
   "execution_count": null,
   "id": "a19201c7-d60d-4ab6-ac03-72f3d3cf0693",
   "metadata": {},
   "outputs": [],
   "source": [
    "from xgboost import XGBClassifier\n",
    "model = XGBClassifier()\n",
    "model.fit(X_train, y_train)\n",
    "y_pred = model.predict(X_test)"
   ]
  },
  {
   "cell_type": "code",
   "execution_count": null,
   "id": "d5b1fa90-11fb-4e76-ad13-dd6ceb631517",
   "metadata": {},
   "outputs": [],
   "source": [
    "from xgboost import XGBRegressor\n",
    "model = XGBRegressor()\n",
    "model.fit(X_train, y_train)\n",
    "y_pred = model.predict(X_test)"
   ]
  },
  {
   "cell_type": "code",
   "execution_count": null,
   "id": "e98f9ece-9db5-41d9-adc2-da693dbeb2a0",
   "metadata": {},
   "outputs": [],
   "source": []
  }
 ],
 "metadata": {
  "kernelspec": {
   "display_name": "Python 3 (ipykernel)",
   "language": "python",
   "name": "python3"
  },
  "language_info": {
   "codemirror_mode": {
    "name": "ipython",
    "version": 3
   },
   "file_extension": ".py",
   "mimetype": "text/x-python",
   "name": "python",
   "nbconvert_exporter": "python",
   "pygments_lexer": "ipython3",
   "version": "3.11.5"
  }
 },
 "nbformat": 4,
 "nbformat_minor": 5
}
