{
 "cells": [
  {
   "cell_type": "markdown",
   "id": "da53b5f3-aa6d-4980-b466-75020483fd23",
   "metadata": {},
   "source": [
    "**Continuous features**  \n",
    "\n",
    "e.g. weight of an animal, but how do you split?  \n",
    "\n",
    " - Split on a threshold\n",
    " - e.g. if weight <= 9lbs - get two subsets of data + continue building\n"
   ]
  },
  {
   "cell_type": "code",
   "execution_count": null,
   "id": "3bcfd3ec-7d3f-4de6-bf53-ed02c5216a5f",
   "metadata": {},
   "outputs": [],
   "source": []
  }
 ],
 "metadata": {
  "kernelspec": {
   "display_name": "Python 3 (ipykernel)",
   "language": "python",
   "name": "python3"
  },
  "language_info": {
   "codemirror_mode": {
    "name": "ipython",
    "version": 3
   },
   "file_extension": ".py",
   "mimetype": "text/x-python",
   "name": "python",
   "nbconvert_exporter": "python",
   "pygments_lexer": "ipython3",
   "version": "3.11.5"
  }
 },
 "nbformat": 4,
 "nbformat_minor": 5
}
