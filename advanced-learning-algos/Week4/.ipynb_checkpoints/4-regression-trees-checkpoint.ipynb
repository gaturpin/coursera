{
 "cells": [
  {
   "cell_type": "markdown",
   "id": "10aa31b6-219f-47f6-aea8-e8cef4a64ef4",
   "metadata": {},
   "source": [
    "**Regression Trees**  \n",
    "\n",
    "So want to predict a number  \n",
    "e.g. we have ear shape, face shape, whiskers - want to predict weight  \n",
    "\n",
    "$ s^2 = \\sum(X-x_{mean})^2/n-1$\n",
    "\n",
    " - To choose splits calculate variance of split weights and at root\n",
    " - use weighted average of variance\n",
    " - Find largest reduction to variance\n",
    " - At leaf node compute average of test data weights"
   ]
  }
 ],
 "metadata": {
  "kernelspec": {
   "display_name": "Python 3 (ipykernel)",
   "language": "python",
   "name": "python3"
  },
  "language_info": {
   "codemirror_mode": {
    "name": "ipython",
    "version": 3
   },
   "file_extension": ".py",
   "mimetype": "text/x-python",
   "name": "python",
   "nbconvert_exporter": "python",
   "pygments_lexer": "ipython3",
   "version": "3.11.5"
  }
 },
 "nbformat": 4,
 "nbformat_minor": 5
}
