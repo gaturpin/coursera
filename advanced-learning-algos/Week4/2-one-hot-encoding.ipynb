{
 "cells": [
  {
   "cell_type": "markdown",
   "id": "eac65a12-7eba-4f1b-8b4e-85bedc03b428",
   "metadata": {},
   "source": [
    "**One-hot encoding**  \n",
    "\n",
    " - Features with three possible values\n",
    " - Split on this feature creates 3 sub-branches\n",
    "\n",
    "If a categorical feature can take on k values, create k binary features (0 or 1s)  \n",
    "The feature that has value 1 is the hot feature  "
   ]
  },
  {
   "cell_type": "code",
   "execution_count": null,
   "id": "f876967d-c1b3-4696-b7b4-6200a0dc7242",
   "metadata": {},
   "outputs": [],
   "source": []
  }
 ],
 "metadata": {
  "kernelspec": {
   "display_name": "Python 3 (ipykernel)",
   "language": "python",
   "name": "python3"
  },
  "language_info": {
   "codemirror_mode": {
    "name": "ipython",
    "version": 3
   },
   "file_extension": ".py",
   "mimetype": "text/x-python",
   "name": "python",
   "nbconvert_exporter": "python",
   "pygments_lexer": "ipython3",
   "version": "3.11.5"
  }
 },
 "nbformat": 4,
 "nbformat_minor": 5
}
