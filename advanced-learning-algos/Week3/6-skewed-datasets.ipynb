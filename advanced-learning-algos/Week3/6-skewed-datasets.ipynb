{
 "cells": [
  {
   "cell_type": "markdown",
   "id": "d32f5f1e-dae5-4f03-a7fa-3a1b71c114f0",
   "metadata": {},
   "source": [
    "**Rare disease classifier**  \n",
    "\n",
    " - ratio of positive to negative examples are very skewed - far from 50/50\n",
    " - e.g rare disease only present in 0.5% of patients\n",
    " - if error is 1% of your program\n",
    " - 99% accuracy\n",
    " - if you just do simple print('y=0')\n",
    " - will have 99.5% accuracy - obviously not useful though\n",
    " - difficult to know which one is best algo because lowest error might not be useful\n",
    "\n",
    "Precision/recall:  \n",
    " - y=1 in presence of rare class\n",
    " - to evaluate performance check actual class vs predicted class 2x2 table\n",
    " - True positive - actual class 1, predicted class 1\n",
    " - True negative - actual class 0, predicted class 0\n",
    " - False positive - actual class 0, predicted class 1\n",
    " - False negative - actual class 1, predicted class 0\n",
    "\n",
    "Precision:  \n",
    "what fraction of patients where we predicted y=1 actually have the rare disease?  \n",
    " - True positives/Predicted positive = True positives/(True pos + false pos)\n",
    "\n",
    "Recall:  \n",
    " - what fraction did we correctly detect patients that actually have the rare disease\n",
    " - True positives/actual positives = True positives/(true pos + false neg)\n",
    "\n",
    "If algo predicts 0 all the time then the numerator will be 0 because it never predicts 1  \n",
    "\n",
    " - Want our algo to have high precision and high recall  \n",
    " - In practice there is a tradeoff between precision and recall\n",
    "\n",
    "Say we want to predict y=1 when only very confident: \n",
    " - e.g. predict 1 if f(x) >= 0.7, 0 if f(x) < 0.7\n",
    " - higher precision, lower recall\n",
    "\n",
    "Now want to avoid missing cases of y=1:\n",
    " - predict 1 if f(x) >= 0.3\n",
    " - lower precision, higher recall\n",
    "\n",
    "tradeoff between precision and recall by changing threshold (f(x) >= thresh)  \n",
    "\n",
    "\n",
    "F1 score:  \n",
    " - Automatically combine precision and recall numbers to find best score\n",
    " - if algo has very low precision or recall - probably not that useful\n",
    " - F1 = 1/(0.5*(1/P + 1/R))\n",
    " - Harmonic mean:\n",
    " - 2PR/(P + R)"
   ]
  },
  {
   "cell_type": "code",
   "execution_count": null,
   "id": "dc4f5d5c-6a08-4653-a26d-c5e839becfa6",
   "metadata": {},
   "outputs": [],
   "source": []
  },
  {
   "cell_type": "code",
   "execution_count": null,
   "id": "ec5d4f9d-0904-427e-a39d-497e8553047d",
   "metadata": {},
   "outputs": [],
   "source": []
  }
 ],
 "metadata": {
  "kernelspec": {
   "display_name": "Python 3 (ipykernel)",
   "language": "python",
   "name": "python3"
  },
  "language_info": {
   "codemirror_mode": {
    "name": "ipython",
    "version": 3
   },
   "file_extension": ".py",
   "mimetype": "text/x-python",
   "name": "python",
   "nbconvert_exporter": "python",
   "pygments_lexer": "ipython3",
   "version": "3.11.5"
  }
 },
 "nbformat": 4,
 "nbformat_minor": 5
}
