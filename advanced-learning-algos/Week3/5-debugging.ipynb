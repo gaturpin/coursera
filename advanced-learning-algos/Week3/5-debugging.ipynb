{
 "cells": [
  {
   "cell_type": "markdown",
   "id": "491fd87e-f67d-4b6f-bec0-f85b241877db",
   "metadata": {},
   "source": [
    "**Debugging**  \n",
    "\n",
    "A few things you can do if model is making large errors: \n",
    "        Example:                    Fixes:\n",
    " - More training examples       - High variance\n",
    " - Smaller sets of features     - High variance\n",
    " - Get additional features      - High bias\n",
    " - Adding polynomial features   - High bias\n",
    " - Decreasing $\\lambda$         - High bias\n",
    " - Increasing $\\lambda$         - High variance \n",
    "\n"
   ]
  },
  {
   "cell_type": "markdown",
   "id": "41601ffc-2090-40b8-a70f-7695b93384a2",
   "metadata": {},
   "source": [
    "**Bias variance trade-off**  \n",
    "\n",
    "Early ML models:\n",
    "Simple model - high bias  \n",
    "Tradeoff  \n",
    "Complex model - high variance  \n",
    "\n",
    "Now:\n",
    "Large neural networks when trained on small to moderate data size sets are low bias machines  \n",
    " - If you make NN large enough\n",
    " - Can almost always fit training set well\n",
    " - Gives us a tool to reduce bias without tradeoff\n",
    "\n",
    "\n",
    "New recipe:\n",
    "training set:\n",
    " - Train algo on training set  \n",
    " - Ask if it does well on training set, is J_train high relative to baseline level  \n",
    " - If not doing well then have a high bias problem  \n",
    " - Using bigger NN can reduce bias  \n",
    " - Restart + loop  \n",
    "\n",
    "cv set:\n",
    " - Does well on training set  \n",
    " - Does it do well on CV set?  \n",
    " - No  \n",
    " - Get more data could fix it   \n",
    " - Check again and check training set \n",
    "\n",
    "finally:\n",
    " - finally get to a point where network is a good size and enough data  \n",
    " - limitaions:\n",
    " - Can become computationally expesive\n",
    " - GPUs can speed up NNs\n",
    "\n",
    "A large neural network with a well chosen regularisation  \n",
    "will usually do as well or better than a smaller one. \n",
    "\n",
    "Almost never hurts to go to a larger neural network, just more computationally expensive"
   ]
  },
  {
   "cell_type": "markdown",
   "id": "e7b1ac6d-733e-4650-8cd0-d5c96489b650",
   "metadata": {},
   "source": [
    "**How to regularise**"
   ]
  },
  {
   "cell_type": "code",
   "execution_count": 9,
   "id": "edff822f-a9f6-45aa-b16b-d97720e904c6",
   "metadata": {},
   "outputs": [],
   "source": [
    "import tensorflow as tf\n",
    "from tensorflow.keras import Sequential\n",
    "from tensorflow.keras.layers import Dense\n",
    "from tensorflow.keras.regularizers import L2\n",
    "\n",
    "\n",
    "#Unregularized MNIST model\n",
    "layer_1 = Dense(units=25, activation = 'relu')\n",
    "layer_2 = Dense(units=25, activation = 'relu')\n",
    "layer_3 = Dense(units=25, activation = 'sigmoid')\n",
    "model = Sequential([layer_1, layer_2, layer_3])\n",
    "\n",
    "#Regularised MNIST model\n",
    "layer_1 = Dense(units=25, activation = 'relu', kernel_regularizer = L2(0.01)) #Where 0.01 is lambda\n",
    "layer_2 = Dense(units=25, activation = 'relu', kernel_regularizer = L2(0.01))\n",
    "layer_3 = Dense(units=25, activation = 'sigmoid', kernel_regularizer = L2(0.01))\n",
    "model = Sequential([layer_1, layer_2, layer_3])"
   ]
  },
  {
   "cell_type": "code",
   "execution_count": null,
   "id": "8c59ef95-2e66-4b38-8f39-359bc39239b1",
   "metadata": {},
   "outputs": [],
   "source": []
  }
 ],
 "metadata": {
  "kernelspec": {
   "display_name": "Python 3 (ipykernel)",
   "language": "python",
   "name": "python3"
  },
  "language_info": {
   "codemirror_mode": {
    "name": "ipython",
    "version": 3
   },
   "file_extension": ".py",
   "mimetype": "text/x-python",
   "name": "python",
   "nbconvert_exporter": "python",
   "pygments_lexer": "ipython3",
   "version": "3.11.5"
  }
 },
 "nbformat": 4,
 "nbformat_minor": 5
}
