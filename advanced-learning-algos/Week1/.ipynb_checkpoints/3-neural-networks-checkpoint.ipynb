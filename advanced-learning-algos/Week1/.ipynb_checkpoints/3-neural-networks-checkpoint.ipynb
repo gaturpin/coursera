{
 "cells": [
  {
   "cell_type": "markdown",
   "id": "00b7ebe7-9e06-47e0-aeea-c9f0d9be7667",
   "metadata": {},
   "source": [
    "**Neural Network Layer**\n",
    "Input layer - layer 0  \n",
    "Then consecutive.  \n",
    "\n",
    "$a^{[1]}_1$ - output of first layer ([1]) from first neuron (underscore 1)\n"
   ]
  },
  {
   "cell_type": "markdown",
   "id": "d053e7fd-b52f-4ab9-bb7b-5e9f67bd6c2d",
   "metadata": {},
   "source": [
    "**Inference: Forward propagation**  \n",
    "Algo goes from left to right. Propagating the activations of the neurons. going forward.\n",
    "\n",
    "Contrast to backward propagation - which is used for learning.\n"
   ]
  },
  {
   "cell_type": "code",
   "execution_count": null,
   "id": "9080a493-ed92-4de9-8651-fcb94213b207",
   "metadata": {},
   "outputs": [],
   "source": []
  }
 ],
 "metadata": {
  "kernelspec": {
   "display_name": "Python 3 (ipykernel)",
   "language": "python",
   "name": "python3"
  },
  "language_info": {
   "codemirror_mode": {
    "name": "ipython",
    "version": 3
   },
   "file_extension": ".py",
   "mimetype": "text/x-python",
   "name": "python",
   "nbconvert_exporter": "python",
   "pygments_lexer": "ipython3",
   "version": "3.12.3"
  }
 },
 "nbformat": 4,
 "nbformat_minor": 5
}
