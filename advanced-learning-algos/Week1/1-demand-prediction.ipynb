{
 "cells": [
  {
   "cell_type": "markdown",
   "id": "ea7f8efc-0ee4-4cca-a951-635f6fe77460",
   "metadata": {},
   "source": [
    "**Demand Prediction**  \n",
    "\n",
    "simple example:  \n",
    "T shirts being sold..\n",
    "\n",
    "x = price - input\n",
    "\n",
    "output:\n",
    "activation: (comes from neuroscience, refers to how much a neuron is sending a high output to other neurons down stream from it)  \n",
    "$a = f(x) = 1/(1+e^{-(wx + b)})$\n",
    "\n",
    "This simple logistic regression algo can be though of a simplified model of a neuron in the brain"
   ]
  },
  {
   "cell_type": "markdown",
   "id": "78d0471e-e795-46db-bdac-69bd54132652",
   "metadata": {},
   "source": [
    "more complex example:  \n",
    "\n",
    "Price  \n",
    "Shipping cost  \n",
    "Marketing  \n",
    "Material  \n",
    "\n",
    "Probability of being a top selling t-shirt:  \n",
    "affordability (func of price and shipping cost)  \n",
    "awareness (func of marketing)  \n",
    "percieved quality (func of price and material)  \n",
    "\n",
    "Then wire outputs of these three neurons that is another logistic regression unit, inputs those three number and outputs probability of t-shirt being a top seller\n",
    "\n",
    "Layer - a grouping of neurons. Takes as input the same or similar features, in turn outputs a few number together  \n",
    "\n",
    "One layer can have multiple neurons e.g. affordability, awareness, perceived quality is all one layer. (called hidden layer - training data set doesn't have affordability, awareness, perceived quality)\n",
    "\n",
    "Next layer is output layer with only one neuron - output is probability of neural network, therefore output layer.  \n",
    "\n",
    "Activations: degree a biological neuron is sending a high output value, many electrical impulses to other neurons downstream from it.\n",
    "\n",
    "Affordability, awareness and percieved quality are activations of the three neurons in that layer.  \n",
    "\n",
    "so 4 numbers in. 3 numbers out of first layer, output layer uses three numbers to compute final probability of being a top seller  \n",
    "\n",
    "If building a large neural network, would take too long to manually define which neurons should have what parameters. so every neuron should have access to every value from layer before.  "
   ]
  },
  {
   "cell_type": "markdown",
   "id": "870133fa-365d-481b-912c-39d49cd98f87",
   "metadata": {},
   "source": [
    "Although we defined 3 features; affordability, awareness and perceived quality, the neural network will work out these features itself."
   ]
  },
  {
   "cell_type": "markdown",
   "id": "31a506eb-7e06-4472-ba81-08cedfeca1cf",
   "metadata": {},
   "source": [
    "Multilayer perceptron - multiple layered neural network"
   ]
  },
  {
   "cell_type": "code",
   "execution_count": null,
   "id": "fcfe0393-ef37-48be-8f9e-f79b0e20834d",
   "metadata": {},
   "outputs": [],
   "source": []
  }
 ],
 "metadata": {
  "kernelspec": {
   "display_name": "Python 3 (ipykernel)",
   "language": "python",
   "name": "python3"
  },
  "language_info": {
   "codemirror_mode": {
    "name": "ipython",
    "version": 3
   },
   "file_extension": ".py",
   "mimetype": "text/x-python",
   "name": "python",
   "nbconvert_exporter": "python",
   "pygments_lexer": "ipython3",
   "version": "3.12.3"
  }
 },
 "nbformat": 4,
 "nbformat_minor": 5
}
