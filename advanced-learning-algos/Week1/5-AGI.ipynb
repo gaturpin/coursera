{
 "cells": [
  {
   "cell_type": "markdown",
   "id": "b8f72b37-4b6f-4ec7-af37-f8f91812917d",
   "metadata": {},
   "source": [
    "**AGI - Artificial General Intelegence**\n",
    "\n",
    "AI includes 2 things:  \n",
    "ANI: Artificial Narrow intelligence.\n",
    " - Does something specific e.g. Smart speaker, self-driving car, web search etc..\n",
    "\n",
    "AGI:  \n",
    " - Do anything a human can do\n",
    " - Not a lot of progress in this field\n",
    "\n",
    "One learning algorithm:  \n",
    " - Cutting connection to the brain to a cortex that does a specific function e.g. auditory cortex (hearing).\n",
    " - Feed it images it will learn to see\n",
    "\n",
    "Blind people:\n",
    " - Can learn to see with tongue or sonar\n",
    "\n",
    "Brain is adaptable\n",
    "\n",
    "Can we approximate the 'algorithm' of the brain"
   ]
  },
  {
   "cell_type": "code",
   "execution_count": null,
   "id": "595d801b-f921-4252-a4fd-fe43883e06fa",
   "metadata": {},
   "outputs": [],
   "source": []
  }
 ],
 "metadata": {
  "kernelspec": {
   "display_name": "Python 3 (ipykernel)",
   "language": "python",
   "name": "python3"
  },
  "language_info": {
   "codemirror_mode": {
    "name": "ipython",
    "version": 3
   },
   "file_extension": ".py",
   "mimetype": "text/x-python",
   "name": "python",
   "nbconvert_exporter": "python",
   "pygments_lexer": "ipython3",
   "version": "3.11.5"
  }
 },
 "nbformat": 4,
 "nbformat_minor": 5
}
